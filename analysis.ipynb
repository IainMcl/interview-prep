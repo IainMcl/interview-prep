{
 "cells": [
  {
   "cell_type": "code",
   "execution_count": 12,
   "metadata": {},
   "outputs": [],
   "source": [
    "import pandas as pd\n",
    "\n",
    "from pokemon.Pokemon import Pokemon\n",
    "from database.Database import Database\n",
    "from config import Config, get_database_config"
   ]
  },
  {
   "cell_type": "code",
   "execution_count": 14,
   "metadata": {},
   "outputs": [],
   "source": [
    "c = Config()\n",
    "db_args = get_database_config(c)"
   ]
  },
  {
   "cell_type": "code",
   "execution_count": 6,
   "metadata": {},
   "outputs": [
    {
     "ename": "AttributeError",
     "evalue": "'int' object has no attribute 'fetch'",
     "output_type": "error",
     "traceback": [
      "\u001b[0;31m---------------------------------------------------------------------------\u001b[0m",
      "\u001b[0;31mAttributeError\u001b[0m                            Traceback (most recent call last)",
      "Cell \u001b[0;32mIn[6], line 1\u001b[0m\n\u001b[0;32m----> 1\u001b[0m pokemon \u001b[38;5;241m=\u001b[39m \u001b[43mPokemon\u001b[49m\u001b[38;5;241;43m.\u001b[39;49m\u001b[43mget_pokemon_in_range\u001b[49m\u001b[43m(\u001b[49m\u001b[38;5;241;43m1\u001b[39;49m\u001b[43m,\u001b[49m\u001b[43m \u001b[49m\u001b[38;5;241;43m151\u001b[39;49m\u001b[43m,\u001b[49m\u001b[43m \u001b[49m\u001b[38;5;124;43m\"\u001b[39;49m\u001b[38;5;124;43m\"\u001b[39;49m\u001b[43m)\u001b[49m\n\u001b[1;32m      2\u001b[0m df \u001b[38;5;241m=\u001b[39m pd\u001b[38;5;241m.\u001b[39mDataFrame(pokemon)\n",
      "File \u001b[0;32m/workspaces/postgres/pokemon/Pokemon.py:203\u001b[0m, in \u001b[0;36mPokemon.get_pokemon_in_range\u001b[0;34m(db, start, end)\u001b[0m\n\u001b[1;32m    193\u001b[0m \u001b[38;5;129m@staticmethod\u001b[39m\n\u001b[1;32m    194\u001b[0m \u001b[38;5;28;01mdef\u001b[39;00m \u001b[38;5;21mget_pokemon_in_range\u001b[39m(db: Database, start: \u001b[38;5;28mint\u001b[39m, end: \u001b[38;5;28mint\u001b[39m) \u001b[38;5;241m-\u001b[39m\u001b[38;5;241m>\u001b[39m \u001b[38;5;28mlist\u001b[39m[\u001b[38;5;124m'\u001b[39m\u001b[38;5;124mPokemon\u001b[39m\u001b[38;5;124m'\u001b[39m]:\n\u001b[1;32m    195\u001b[0m     sql \u001b[38;5;241m=\u001b[39m \u001b[38;5;124m\"\"\"\u001b[39m\n\u001b[1;32m    196\u001b[0m \u001b[38;5;124m        SELECT \u001b[39m\n\u001b[1;32m    197\u001b[0m \u001b[38;5;124m            p.id, name, height, weight, hp, attack, defense, special_attack, special_defense, speed, type, ability, hidden\u001b[39m\n\u001b[0;32m   (...)\u001b[0m\n\u001b[1;32m    201\u001b[0m \u001b[38;5;124m        WHERE p.id BETWEEN \u001b[39m\u001b[38;5;132;01m%s\u001b[39;00m\u001b[38;5;124m AND \u001b[39m\u001b[38;5;132;01m%s\u001b[39;00m\u001b[38;5;124m;\u001b[39m\n\u001b[1;32m    202\u001b[0m \u001b[38;5;124m        \u001b[39m\u001b[38;5;124m\"\"\"\u001b[39m\n\u001b[0;32m--> 203\u001b[0m     pkm: \u001b[38;5;28mlist\u001b[39m[\u001b[38;5;28mtuple\u001b[39m] \u001b[38;5;241m=\u001b[39m \u001b[43mdb\u001b[49m\u001b[38;5;241;43m.\u001b[39;49m\u001b[43mfetch\u001b[49m(sql, (start, end))\n\u001b[1;32m    204\u001b[0m     \u001b[38;5;28;01mreturn\u001b[39;00m Pokemon\u001b[38;5;241m.\u001b[39m_from_db_rows(pkm)\n",
      "\u001b[0;31mAttributeError\u001b[0m: 'int' object has no attribute 'fetch'"
     ]
    }
   ],
   "source": [
    "with Database(*db_args) as db:\n",
    "    pokemon = Pokemon.get_pokemon_in_range(d, 1, 151, c.get(\"pokemonapi\", \"url\"))\n",
    "df = pd.DataFrame(pokemon)"
   ]
  }
 ],
 "metadata": {
  "kernelspec": {
   "display_name": "Python 3",
   "language": "python",
   "name": "python3"
  },
  "language_info": {
   "codemirror_mode": {
    "name": "ipython",
    "version": 3
   },
   "file_extension": ".py",
   "mimetype": "text/x-python",
   "name": "python",
   "nbconvert_exporter": "python",
   "pygments_lexer": "ipython3",
   "version": "3.11.8"
  }
 },
 "nbformat": 4,
 "nbformat_minor": 2
}
